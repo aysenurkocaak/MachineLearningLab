{
 "cells": [
  {
   "cell_type": "code",
   "execution_count": 3,
   "id": "51a19e67",
   "metadata": {},
   "outputs": [
    {
     "name": "stdout",
     "output_type": "stream",
     "text": [
      "Requirement already satisfied: numpy in c:\\users\\monster\\anaconda3\\lib\\site-packages (1.24.3)\n"
     ]
    }
   ],
   "source": [
    "!pip install numpy"
   ]
  },
  {
   "cell_type": "code",
   "execution_count": 4,
   "id": "ecfdb98c",
   "metadata": {},
   "outputs": [],
   "source": [
    "\n",
    "import numpy as np "
   ]
  },
  {
   "cell_type": "code",
   "execution_count": 5,
   "id": "040d9cc1",
   "metadata": {},
   "outputs": [
    {
     "name": "stdout",
     "output_type": "stream",
     "text": [
      "[ 2  5 89  6]\n"
     ]
    }
   ],
   "source": [
    "Array1 = np.array([2,5,89,6]) \n",
    "\n",
    "print(Array1)"
   ]
  },
  {
   "cell_type": "code",
   "execution_count": 6,
   "id": "c7e83cdb",
   "metadata": {},
   "outputs": [
    {
     "name": "stdout",
     "output_type": "stream",
     "text": [
      "(8,)\n"
     ]
    }
   ],
   "source": [
    "Array2= np.array([1,2,3,4,5,6,7,8])\n",
    "\n",
    "print(Array2.shape) "
   ]
  },
  {
   "cell_type": "code",
   "execution_count": 9,
   "id": "6ce0919e",
   "metadata": {},
   "outputs": [
    {
     "name": "stdout",
     "output_type": "stream",
     "text": [
      "[[1 2 3 4]\n",
      " [5 6 7 8]]\n"
     ]
    }
   ],
   "source": [
    "Matris = Array2.reshape(2,4) \n",
    "print(Matris)"
   ]
  },
  {
   "cell_type": "code",
   "execution_count": 10,
   "id": "c252f5d1",
   "metadata": {},
   "outputs": [
    {
     "name": "stdout",
     "output_type": "stream",
     "text": [
      "shape:  (2, 4)\n",
      "dimension:  2\n",
      "data type:  int32\n",
      "size:  8\n",
      "type <class 'numpy.ndarray'>\n"
     ]
    }
   ],
   "source": [
    "\n",
    "print(\"shape: \",Matris.shape)\n",
    "\n",
    "print(\"dimension: \",Matris.ndim) \n",
    "\n",
    "print(\"data type: \",Matris.dtype.name) \n",
    "\n",
    "print(\"size: \",Matris.size) \n",
    "                       \n",
    "print(\"type\",type(Matris))"
   ]
  },
  {
   "cell_type": "code",
   "execution_count": 12,
   "id": "9ac20044",
   "metadata": {},
   "outputs": [
    {
     "name": "stdout",
     "output_type": "stream",
     "text": [
      "[[ 1  2  3  4]\n",
      " [ 5  6  7  8]\n",
      " [ 9 10 11 12]]\n"
     ]
    }
   ],
   "source": [
    "Array3= np.array([[1,2,3,4],[5,6,7,8],[9,10,11,12]])\n",
    "print(Array3)"
   ]
  },
  {
   "cell_type": "code",
   "execution_count": 13,
   "id": "a3ff6d2f",
   "metadata": {},
   "outputs": [
    {
     "name": "stdout",
     "output_type": "stream",
     "text": [
      "(3, 4)\n"
     ]
    }
   ],
   "source": [
    "print(Array3.shape) "
   ]
  },
  {
   "cell_type": "code",
   "execution_count": 15,
   "id": "200a7ecc",
   "metadata": {},
   "outputs": [
    {
     "name": "stdout",
     "output_type": "stream",
     "text": [
      "[[4. 0. 0.]\n",
      " [0. 0. 0.]]\n"
     ]
    }
   ],
   "source": [
    "\n",
    "zeros= np.zeros((2,3))  \n",
    "zeros[0,0]=4\n",
    "print(zeros)"
   ]
  },
  {
   "cell_type": "code",
   "execution_count": 16,
   "id": "5d1883b3",
   "metadata": {},
   "outputs": [
    {
     "data": {
      "text/plain": [
       "array([[1., 1., 1., 1.],\n",
       "       [1., 1., 1., 1.],\n",
       "       [1., 1., 1., 1.]])"
      ]
     },
     "execution_count": 16,
     "metadata": {},
     "output_type": "execute_result"
    }
   ],
   "source": [
    "\n",
    "np.ones((3,4))"
   ]
  },
  {
   "cell_type": "code",
   "execution_count": 18,
   "id": "8e37f674",
   "metadata": {},
   "outputs": [
    {
     "data": {
      "text/plain": [
       "array([[1.24413698e-311, 1.24413709e-311, 1.35566986e+131,\n",
       "        5.36793230e+242, 3.92880998e+160, 5.50409570e+257,\n",
       "        2.59345414e+161],\n",
       "       [5.56206154e+180, 8.17434450e+141, 1.09918035e+155,\n",
       "        4.26209394e+180, 1.34452472e+161, 5.04620658e+180,\n",
       "        3.57885821e+246],\n",
       "       [6.01121703e+175, 4.73544978e+223, 8.90302838e+247,\n",
       "        9.77146823e-153, 1.96097649e+243, 6.99405043e-009,\n",
       "        2.93494529e+222],\n",
       "       [1.03063392e-113, 1.72731111e+097, 6.99416121e-009,\n",
       "        2.93494530e+222, 1.03063392e-113, 1.05894612e-153,\n",
       "        7.61402229e-010],\n",
       "       [8.98752578e-153, 4.83245960e+276, 8.03704345e-095,\n",
       "        1.95575364e-109, 1.05190656e-153, 5.09600861e-307,\n",
       "        1.24413727e-311],\n",
       "       [1.24409642e-311, 1.05177053e-153, 7.04134408e-009,\n",
       "        1.43178810e-065, 1.35717430e+131, 1.05176086e-153,\n",
       "        4.03154109e+103]])"
      ]
     },
     "execution_count": 18,
     "metadata": {},
     "output_type": "execute_result"
    }
   ],
   "source": [
    "np.empty((6,7))"
   ]
  },
  {
   "cell_type": "code",
   "execution_count": 19,
   "id": "d4de39b7",
   "metadata": {},
   "outputs": [
    {
     "data": {
      "text/plain": [
       "array([10, 15, 20, 25, 30, 35, 40, 45])"
      ]
     },
     "execution_count": 19,
     "metadata": {},
     "output_type": "execute_result"
    }
   ],
   "source": [
    "np.arange(10,50,5)"
   ]
  },
  {
   "cell_type": "code",
   "execution_count": 20,
   "id": "1adb8c3a",
   "metadata": {},
   "outputs": [
    {
     "name": "stdout",
     "output_type": "stream",
     "text": [
      "[ 0.          0.52631579  1.05263158  1.57894737  2.10526316  2.63157895\n",
      "  3.15789474  3.68421053  4.21052632  4.73684211  5.26315789  5.78947368\n",
      "  6.31578947  6.84210526  7.36842105  7.89473684  8.42105263  8.94736842\n",
      "  9.47368421 10.        ]\n"
     ]
    }
   ],
   "source": [
    "\n",
    "Array3= np.linspace(0,10,20)\n",
    "print(Array3)"
   ]
  },
  {
   "cell_type": "code",
   "execution_count": 21,
   "id": "8d7272be",
   "metadata": {},
   "outputs": [
    {
     "name": "stdout",
     "output_type": "stream",
     "text": [
      "[11 13 15]\n",
      "[-3 -3 -3]\n",
      "[49 64 81]\n"
     ]
    }
   ],
   "source": [
    "\n",
    "X= np.array([4,5,6])\n",
    "Y= np.array([7,8,9]) \n",
    "print(X+Y) \n",
    "print(X-Y)\n",
    "print(Y**2)"
   ]
  },
  {
   "cell_type": "code",
   "execution_count": 23,
   "id": "c7efde24",
   "metadata": {},
   "outputs": [
    {
     "name": "stdout",
     "output_type": "stream",
     "text": [
      "[1 2 3 4 5]\n"
     ]
    }
   ],
   "source": [
    "x= np.array([1,2,3,4,5])\n",
    "print(x)"
   ]
  },
  {
   "cell_type": "code",
   "execution_count": 24,
   "id": "3a1e2591",
   "metadata": {},
   "outputs": [
    {
     "name": "stdout",
     "output_type": "stream",
     "text": [
      "[5 6 7 8]\n",
      "[1, 5, 6, 2, 11, 7, 9]\n"
     ]
    }
   ],
   "source": [
    "Liste = [1,5,6,2,11,7,9]\n",
    "\n",
    "Liste_Array = np.array([5,6,7,8]) \n",
    "print(Liste_Array)\n",
    "print(Liste)"
   ]
  },
  {
   "cell_type": "code",
   "execution_count": 25,
   "id": "90fac0a9",
   "metadata": {},
   "outputs": [
    {
     "name": "stdout",
     "output_type": "stream",
     "text": [
      "[ 1  5  6  2 11  7  9]\n"
     ]
    }
   ],
   "source": [
    "Array = np.array(Liste)\n",
    "print(Array)"
   ]
  },
  {
   "cell_type": "code",
   "execution_count": 26,
   "id": "783408e8",
   "metadata": {},
   "outputs": [
    {
     "name": "stdout",
     "output_type": "stream",
     "text": [
      "[1 2 3]\n"
     ]
    }
   ],
   "source": [
    "a = np.array([1,2,3])\n",
    "print(a)"
   ]
  },
  {
   "cell_type": "code",
   "execution_count": 29,
   "id": "71a89dd4",
   "metadata": {},
   "outputs": [
    {
     "name": "stdout",
     "output_type": "stream",
     "text": [
      "[6 2 3] [6 2 3] [6 2 3]\n"
     ]
    }
   ],
   "source": [
    "b=a\n",
    "\n",
    "c=a\n",
    "\n",
    "b[0]=6\n",
    "print(a,b,c)"
   ]
  },
  {
   "cell_type": "code",
   "execution_count": 30,
   "id": "502f767b",
   "metadata": {},
   "outputs": [
    {
     "name": "stdout",
     "output_type": "stream",
     "text": [
      "[6 2 3]\n"
     ]
    }
   ],
   "source": [
    "\n",
    "d = a.copy()\n",
    "print(d)"
   ]
  },
  {
   "cell_type": "code",
   "execution_count": 33,
   "id": "defc426e",
   "metadata": {},
   "outputs": [
    {
     "name": "stdout",
     "output_type": "stream",
     "text": [
      "6\n",
      "[1 2]\n"
     ]
    }
   ],
   "source": [
    "a= np.array([1,2,3,4,5,6,7,8,9]) \n",
    "print(a[5])\n",
    "print(a[0:2])"
   ]
  },
  {
   "cell_type": "code",
   "execution_count": 34,
   "id": "9f54d899",
   "metadata": {},
   "outputs": [
    {
     "name": "stdout",
     "output_type": "stream",
     "text": [
      "[9 4]\n"
     ]
    }
   ],
   "source": [
    "\n",
    "reverse_array = a[::-5] \n",
    "print(reverse_array)"
   ]
  },
  {
   "cell_type": "code",
   "execution_count": 35,
   "id": "f618dbe2",
   "metadata": {},
   "outputs": [
    {
     "name": "stdout",
     "output_type": "stream",
     "text": [
      "[[1 2 3]\n",
      " [4 5 6]\n",
      " [7 8 9]]\n"
     ]
    }
   ],
   "source": [
    "array1 = np.array([[1,2,3],[4,5,6],[7,8,9]])\n",
    "print(array1)"
   ]
  },
  {
   "cell_type": "code",
   "execution_count": null,
   "id": "5a314d37",
   "metadata": {},
   "outputs": [],
   "source": []
  }
 ],
 "metadata": {
  "kernelspec": {
   "display_name": "Python 3 (ipykernel)",
   "language": "python",
   "name": "python3"
  },
  "language_info": {
   "codemirror_mode": {
    "name": "ipython",
    "version": 3
   },
   "file_extension": ".py",
   "mimetype": "text/x-python",
   "name": "python",
   "nbconvert_exporter": "python",
   "pygments_lexer": "ipython3",
   "version": "3.11.5"
  }
 },
 "nbformat": 4,
 "nbformat_minor": 5
}
