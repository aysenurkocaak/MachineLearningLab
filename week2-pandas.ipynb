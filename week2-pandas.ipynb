{
 "cells": [
  {
   "cell_type": "code",
   "execution_count": 2,
   "id": "bed757e5",
   "metadata": {},
   "outputs": [
    {
     "data": {
      "text/plain": [
       "(3,)"
      ]
     },
     "execution_count": 2,
     "metadata": {},
     "output_type": "execute_result"
    }
   ],
   "source": [
    "a = (1,2,3,4)\n",
    "\n",
    "a[2:3]"
   ]
  },
  {
   "cell_type": "code",
   "execution_count": 4,
   "id": "70830120",
   "metadata": {},
   "outputs": [
    {
     "name": "stdout",
     "output_type": "stream",
     "text": [
      "   calories  duration\n",
      "0       500        35\n",
      "1       100        20\n",
      "2        90        45\n"
     ]
    }
   ],
   "source": [
    "import pandas as pd\n",
    "\n",
    "data = {\n",
    "  \"calories\": [500, 100, 90],\n",
    "  \"duration\": [35, 20, 45]\n",
    "}\n",
    "\n",
    "df = pd.DataFrame(data)\n",
    "\n",
    "print(df) "
   ]
  },
  {
   "cell_type": "code",
   "execution_count": 5,
   "id": "b07cce6c",
   "metadata": {},
   "outputs": [
    {
     "name": "stdout",
     "output_type": "stream",
     "text": [
      "   calories  duration\n",
      "0       500        35\n",
      "1       100        20\n"
     ]
    }
   ],
   "source": [
    "print(df.loc[[0, 1]])"
   ]
  },
  {
   "cell_type": "code",
   "execution_count": 6,
   "id": "de26cceb",
   "metadata": {},
   "outputs": [],
   "source": [
    "import pandas as pd\n",
    "\n",
    "# Read the CSV file into a DataFrame\n",
    "# df = pd.read_csv(\"C:/Users/Emre/Desktop/data.csv\")\n",
    "\n",
    "# Print the contents of the DataFrame\n",
    "# print(df)"
   ]
  },
  {
   "cell_type": "code",
   "execution_count": 7,
   "id": "ca59c3a7",
   "metadata": {},
   "outputs": [
    {
     "name": "stdout",
     "output_type": "stream",
     "text": [
      "Index(['calories', 'duration'], dtype='object')\n",
      "<class 'pandas.core.frame.DataFrame'>\n",
      "RangeIndex: 3 entries, 0 to 2\n",
      "Data columns (total 2 columns):\n",
      " #   Column    Non-Null Count  Dtype\n",
      "---  ------    --------------  -----\n",
      " 0   calories  3 non-null      int64\n",
      " 1   duration  3 non-null      int64\n",
      "dtypes: int64(2)\n",
      "memory usage: 180.0 bytes\n",
      "None\n",
      "         calories   duration\n",
      "count    3.000000   3.000000\n",
      "mean   230.000000  33.333333\n",
      "std    233.880311  12.583057\n",
      "min     90.000000  20.000000\n",
      "25%     95.000000  27.500000\n",
      "50%    100.000000  35.000000\n",
      "75%    300.000000  40.000000\n",
      "max    500.000000  45.000000\n"
     ]
    }
   ],
   "source": [
    "print(df.columns)\n",
    "print(df.info())\n",
    "print(df.describe()) "
   ]
  },
  {
   "cell_type": "code",
   "execution_count": 8,
   "id": "9c8dd6c5",
   "metadata": {},
   "outputs": [
    {
     "name": "stdout",
     "output_type": "stream",
     "text": [
      "0    500\n",
      "1    100\n",
      "2     90\n",
      "Name: calories, dtype: int64\n"
     ]
    }
   ],
   "source": [
    "print(df[\"calories\"]) \n",
    " "
   ]
  },
  {
   "cell_type": "code",
   "execution_count": 9,
   "id": "18b17f6e",
   "metadata": {},
   "outputs": [
    {
     "name": "stdout",
     "output_type": "stream",
     "text": [
      "0    35\n",
      "1    20\n",
      "2    45\n",
      "Name: duration, dtype: int64\n"
     ]
    }
   ],
   "source": [
    "print(df.loc[:, \"duration\"])"
   ]
  },
  {
   "cell_type": "code",
   "execution_count": 11,
   "id": "bc76c091",
   "metadata": {},
   "outputs": [
    {
     "name": "stdout",
     "output_type": "stream",
     "text": [
      "   calories  duration\n",
      "2        90        45\n",
      "0       500        35\n"
     ]
    }
   ],
   "source": [
    "print(df.loc[::-2])\n"
   ]
  },
  {
   "cell_type": "code",
   "execution_count": 13,
   "id": "3698e3ac",
   "metadata": {},
   "outputs": [
    {
     "name": "stdout",
     "output_type": "stream",
     "text": [
      "33.333333333333336\n"
     ]
    }
   ],
   "source": [
    "import numpy as np\n",
    "\n",
    "ort= np.mean(df.duration)\n",
    "print(ort)"
   ]
  },
  {
   "cell_type": "code",
   "execution_count": 14,
   "id": "8c980f06",
   "metadata": {},
   "outputs": [
    {
     "name": "stdout",
     "output_type": "stream",
     "text": [
      "       name   age     note\n",
      "0      ayse  12.0    258.0\n",
      "1  muhammet  21.0    456.0\n",
      "2    zeynep  22.0     78.0\n",
      "3     ahmet  55.0  87654.0\n",
      "4    zerrin   NaN      NaN\n",
      "5      elif  29.0     89.0\n"
     ]
    }
   ],
   "source": [
    "import pandas as pd\n",
    "\n",
    "dictionary = {\"name\":[\"ayse\",\"muhammet\",\"zeynep\",\"ahmet\",\"zerrin\",\"elif\"],\n",
    "             \"age\":[12,21,22,55,None,29],\n",
    "             \"note\":[258,456,78,87654,None,89]}\n",
    "\n",
    "dataframe1 = pd.DataFrame(dictionary) \n",
    "print(dataframe1)"
   ]
  },
  {
   "cell_type": "code",
   "execution_count": 15,
   "id": "fae17c61",
   "metadata": {},
   "outputs": [
    {
     "name": "stdout",
     "output_type": "stream",
     "text": [
      "17707.0\n"
     ]
    },
    {
     "data": {
      "text/plain": [
       "(       name   age     note             ortalama\n",
       " 0      ayse  12.0    258.0  ortalamanın altında\n",
       " 1  muhammet  21.0    456.0  ortalamanın altında\n",
       " 2    zeynep  22.0     78.0  ortalamanın altında\n",
       " 3     ahmet  55.0  87654.0  ortalamanın üstünde\n",
       " 4    zerrin   NaN      NaN  ortalamanın üstünde\n",
       " 5      elif  29.0     89.0  ortalamanın altında,)"
      ]
     },
     "execution_count": 15,
     "metadata": {},
     "output_type": "execute_result"
    }
   ],
   "source": [
    "print(dataframe1.note.mean()) #ortalama not hesabı\n",
    "\n",
    "dataframe1[\"ortalama\"]= [\"ortalamanın altında\" if dataframe1.note.mean()>each else \"ortalamanın üstünde\" for each in dataframe1.note]\n",
    "dataframe1,"
   ]
  },
  {
   "cell_type": "code",
   "execution_count": 16,
   "id": "c0dbe753",
   "metadata": {},
   "outputs": [
    {
     "data": {
      "text/html": [
       "<div>\n",
       "<style scoped>\n",
       "    .dataframe tbody tr th:only-of-type {\n",
       "        vertical-align: middle;\n",
       "    }\n",
       "\n",
       "    .dataframe tbody tr th {\n",
       "        vertical-align: top;\n",
       "    }\n",
       "\n",
       "    .dataframe thead th {\n",
       "        text-align: right;\n",
       "    }\n",
       "</style>\n",
       "<table border=\"1\" class=\"dataframe\">\n",
       "  <thead>\n",
       "    <tr style=\"text-align: right;\">\n",
       "      <th></th>\n",
       "      <th>name</th>\n",
       "      <th>age</th>\n",
       "      <th>note</th>\n",
       "      <th>ortalama</th>\n",
       "    </tr>\n",
       "  </thead>\n",
       "  <tbody>\n",
       "    <tr>\n",
       "      <th>0</th>\n",
       "      <td>ayse</td>\n",
       "      <td>12.0</td>\n",
       "      <td>258.0</td>\n",
       "      <td>ortalamanın altında</td>\n",
       "    </tr>\n",
       "    <tr>\n",
       "      <th>1</th>\n",
       "      <td>muhammet</td>\n",
       "      <td>21.0</td>\n",
       "      <td>456.0</td>\n",
       "      <td>ortalamanın altında</td>\n",
       "    </tr>\n",
       "    <tr>\n",
       "      <th>2</th>\n",
       "      <td>zeynep</td>\n",
       "      <td>22.0</td>\n",
       "      <td>78.0</td>\n",
       "      <td>ortalamanın altında</td>\n",
       "    </tr>\n",
       "    <tr>\n",
       "      <th>3</th>\n",
       "      <td>ahmet</td>\n",
       "      <td>55.0</td>\n",
       "      <td>87654.0</td>\n",
       "      <td>ortalamanın üstünde</td>\n",
       "    </tr>\n",
       "    <tr>\n",
       "      <th>4</th>\n",
       "      <td>zerrin</td>\n",
       "      <td>NaN</td>\n",
       "      <td>NaN</td>\n",
       "      <td>ortalamanın üstünde</td>\n",
       "    </tr>\n",
       "    <tr>\n",
       "      <th>5</th>\n",
       "      <td>elif</td>\n",
       "      <td>29.0</td>\n",
       "      <td>89.0</td>\n",
       "      <td>ortalamanın altında</td>\n",
       "    </tr>\n",
       "  </tbody>\n",
       "</table>\n",
       "</div>"
      ],
      "text/plain": [
       "       name   age     note             ortalama\n",
       "0      ayse  12.0    258.0  ortalamanın altında\n",
       "1  muhammet  21.0    456.0  ortalamanın altında\n",
       "2    zeynep  22.0     78.0  ortalamanın altında\n",
       "3     ahmet  55.0  87654.0  ortalamanın üstünde\n",
       "4    zerrin   NaN      NaN  ortalamanın üstünde\n",
       "5      elif  29.0     89.0  ortalamanın altında"
      ]
     },
     "execution_count": 16,
     "metadata": {},
     "output_type": "execute_result"
    }
   ],
   "source": [
    "dataframe1.columns = [ each.split(\" \")[0]+\"_\"+each.split(\" \")[1] if len(each.split(\" \"))>1 else each for each in dataframe1.columns]\n",
    "dataframe1"
   ]
  },
  {
   "cell_type": "code",
   "execution_count": null,
   "id": "ddc831d1",
   "metadata": {},
   "outputs": [],
   "source": []
  }
 ],
 "metadata": {
  "kernelspec": {
   "display_name": "Python 3 (ipykernel)",
   "language": "python",
   "name": "python3"
  },
  "language_info": {
   "codemirror_mode": {
    "name": "ipython",
    "version": 3
   },
   "file_extension": ".py",
   "mimetype": "text/x-python",
   "name": "python",
   "nbconvert_exporter": "python",
   "pygments_lexer": "ipython3",
   "version": "3.11.5"
  }
 },
 "nbformat": 4,
 "nbformat_minor": 5
}
