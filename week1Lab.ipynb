{
 "cells": [
  {
   "cell_type": "code",
   "execution_count": 2,
   "id": "c2540e5f",
   "metadata": {},
   "outputs": [
    {
     "name": "stdout",
     "output_type": "stream",
     "text": [
      "18.9\n",
      "Aysenur\n"
     ]
    }
   ],
   "source": [
    "a=2\n",
    "b=10\n",
    "c=6.9\n",
    "name=\"Aysenur\"\n",
    "print(a+b+c)\n",
    "print(name)"
   ]
  },
  {
   "cell_type": "code",
   "execution_count": 3,
   "id": "4dc323fb",
   "metadata": {},
   "outputs": [
    {
     "name": "stdout",
     "output_type": "stream",
     "text": [
      "[2, 9, 11]\n"
     ]
    },
    {
     "data": {
      "text/plain": [
       "list"
      ]
     },
     "execution_count": 3,
     "metadata": {},
     "output_type": "execute_result"
    }
   ],
   "source": [
    "num1=2\n",
    "num2=9\n",
    "num3=11\n",
    "\n",
    "my_list=[num1,num2,num3]\n",
    "print(my_list)\n",
    "type(my_list)"
   ]
  },
  {
   "cell_type": "code",
   "execution_count": 6,
   "id": "f98ba3de",
   "metadata": {},
   "outputs": [
    {
     "name": "stdout",
     "output_type": "stream",
     "text": [
      "['ayse', 2, 9, 11]\n"
     ]
    },
    {
     "data": {
      "text/plain": [
       "str"
      ]
     },
     "execution_count": 6,
     "metadata": {},
     "output_type": "execute_result"
    }
   ],
   "source": [
    "\n",
    "my_list_=[\"ayse\",num1,num2,num3]\n",
    "print(my_list_)\n",
    "\n",
    "type(my_list_[0])"
   ]
  },
  {
   "cell_type": "code",
   "execution_count": 7,
   "id": "76baed59",
   "metadata": {},
   "outputs": [
    {
     "name": "stdout",
     "output_type": "stream",
     "text": [
      "ayse\n"
     ]
    }
   ],
   "source": [
    "value=my_list_[0]\n",
    "print(value)"
   ]
  },
  {
   "cell_type": "code",
   "execution_count": 9,
   "id": "b81084b9",
   "metadata": {},
   "outputs": [
    {
     "name": "stdout",
     "output_type": "stream",
     "text": [
      "['ayse', 2, 9]\n"
     ]
    }
   ],
   "source": [
    "\n",
    "list_divide= my_list_[0:3]\n",
    "print(list_divide)"
   ]
  },
  {
   "cell_type": "code",
   "execution_count": 10,
   "id": "84cae007",
   "metadata": {},
   "outputs": [
    {
     "data": {
      "text/plain": [
       "['__add__',\n",
       " '__class__',\n",
       " '__class_getitem__',\n",
       " '__contains__',\n",
       " '__delattr__',\n",
       " '__delitem__',\n",
       " '__dir__',\n",
       " '__doc__',\n",
       " '__eq__',\n",
       " '__format__',\n",
       " '__ge__',\n",
       " '__getattribute__',\n",
       " '__getitem__',\n",
       " '__getstate__',\n",
       " '__gt__',\n",
       " '__hash__',\n",
       " '__iadd__',\n",
       " '__imul__',\n",
       " '__init__',\n",
       " '__init_subclass__',\n",
       " '__iter__',\n",
       " '__le__',\n",
       " '__len__',\n",
       " '__lt__',\n",
       " '__mul__',\n",
       " '__ne__',\n",
       " '__new__',\n",
       " '__reduce__',\n",
       " '__reduce_ex__',\n",
       " '__repr__',\n",
       " '__reversed__',\n",
       " '__rmul__',\n",
       " '__setattr__',\n",
       " '__setitem__',\n",
       " '__sizeof__',\n",
       " '__str__',\n",
       " '__subclasshook__',\n",
       " 'append',\n",
       " 'clear',\n",
       " 'copy',\n",
       " 'count',\n",
       " 'extend',\n",
       " 'index',\n",
       " 'insert',\n",
       " 'pop',\n",
       " 'remove',\n",
       " 'reverse',\n",
       " 'sort']"
      ]
     },
     "execution_count": 10,
     "metadata": {},
     "output_type": "execute_result"
    }
   ],
   "source": [
    "dir(my_list)\n"
   ]
  },
  {
   "cell_type": "code",
   "execution_count": 14,
   "id": "5de373b4",
   "metadata": {},
   "outputs": [
    {
     "name": "stdout",
     "output_type": "stream",
     "text": [
      "Help on method_descriptor:\n",
      "\n",
      "append(self, object, /)\n",
      "    Append object to the end of the list.\n",
      "\n"
     ]
    }
   ],
   "source": [
    "help(list.append)"
   ]
  },
  {
   "cell_type": "code",
   "execution_count": 15,
   "id": "a4c3164a",
   "metadata": {},
   "outputs": [
    {
     "name": "stdout",
     "output_type": "stream",
     "text": [
      "Help on method_descriptor:\n",
      "\n",
      "remove(self, value, /)\n",
      "    Remove first occurrence of value.\n",
      "    \n",
      "    Raises ValueError if the value is not present.\n",
      "\n"
     ]
    }
   ],
   "source": [
    "help(list.remove)"
   ]
  },
  {
   "cell_type": "code",
   "execution_count": 17,
   "id": "4b498f47",
   "metadata": {},
   "outputs": [
    {
     "name": "stdout",
     "output_type": "stream",
     "text": [
      "[10, 9, 8, 7, 6, 5, 4]\n"
     ]
    }
   ],
   "source": [
    "list=[10,9,8,7,6,5]\n",
    "list.append(4)\n",
    "print(list)"
   ]
  },
  {
   "cell_type": "code",
   "execution_count": 18,
   "id": "c16442bb",
   "metadata": {},
   "outputs": [
    {
     "name": "stdout",
     "output_type": "stream",
     "text": [
      "[9, 8, 7, 6, 5, 4]\n"
     ]
    }
   ],
   "source": [
    "list.remove(10)\n",
    "print(list)"
   ]
  },
  {
   "cell_type": "code",
   "execution_count": 19,
   "id": "6ccbf570",
   "metadata": {},
   "outputs": [
    {
     "name": "stdout",
     "output_type": "stream",
     "text": [
      "[4, 5, 6, 7, 8, 9]\n"
     ]
    }
   ],
   "source": [
    "list.reverse()\n",
    "print(list)"
   ]
  },
  {
   "cell_type": "code",
   "execution_count": 27,
   "id": "31b32412",
   "metadata": {},
   "outputs": [
    {
     "name": "stdout",
     "output_type": "stream",
     "text": [
      "4\n",
      "5\n",
      "6\n",
      "7\n",
      "8\n",
      "9\n",
      "10\n"
     ]
    }
   ],
   "source": [
    "\n",
    "for each in range (4,11):\n",
    "  print(each)"
   ]
  },
  {
   "cell_type": "code",
   "execution_count": 28,
   "id": "0a38f175",
   "metadata": {},
   "outputs": [
    {
     "name": "stdout",
     "output_type": "stream",
     "text": [
      "i\n",
      "s\n",
      "t\n",
      "a\n",
      "n\n",
      "b\n",
      "u\n",
      "l\n"
     ]
    }
   ],
   "source": [
    "for each in \"istanbul\":\n",
    "    print(each)"
   ]
  },
  {
   "cell_type": "code",
   "execution_count": 29,
   "id": "ab994a9b",
   "metadata": {},
   "outputs": [
    {
     "data": {
      "text/plain": [
       "114"
      ]
     },
     "execution_count": 29,
     "metadata": {},
     "output_type": "execute_result"
    }
   ],
   "source": [
    "list1=[2,3,5,9,9]\n",
    "list2=[4,5,32,45]\n",
    "sum(list1+list2)"
   ]
  },
  {
   "cell_type": "code",
   "execution_count": 30,
   "id": "c0b583bf",
   "metadata": {},
   "outputs": [
    {
     "data": {
      "text/plain": [
       "6"
      ]
     },
     "execution_count": 30,
     "metadata": {},
     "output_type": "execute_result"
    }
   ],
   "source": [
    "min(list1) + min(list2)"
   ]
  },
  {
   "cell_type": "code",
   "execution_count": 31,
   "id": "b248a0f5",
   "metadata": {},
   "outputs": [
    {
     "name": "stdout",
     "output_type": "stream",
     "text": [
      "0\n",
      "2\n",
      "4\n",
      "5\n",
      "6\n",
      "8\n",
      "10\n",
      "12\n",
      "14\n",
      "15\n",
      "16\n",
      "18\n",
      "20\n",
      "22\n",
      "24\n",
      "25\n",
      "26\n",
      "28\n",
      "30\n",
      "32\n",
      "34\n",
      "35\n",
      "36\n",
      "38\n",
      "40\n",
      "42\n",
      "44\n",
      "45\n",
      "46\n",
      "48\n",
      "50\n",
      "52\n",
      "54\n",
      "55\n",
      "56\n",
      "58\n",
      "60\n",
      "62\n",
      "64\n",
      "65\n",
      "66\n",
      "68\n",
      "70\n",
      "72\n",
      "74\n",
      "75\n",
      "76\n",
      "78\n",
      "80\n",
      "82\n",
      "84\n",
      "85\n",
      "86\n",
      "88\n",
      "90\n",
      "92\n",
      "94\n",
      "95\n",
      "96\n",
      "98\n"
     ]
    }
   ],
   "source": [
    "for i in range(0,100):\n",
    "    if i%2==0 or i%5==0:\n",
    "        print(i)"
   ]
  },
  {
   "cell_type": "code",
   "execution_count": 34,
   "id": "b7808e4a",
   "metadata": {},
   "outputs": [
    {
     "name": "stdout",
     "output_type": "stream",
     "text": [
      "En büyük değer : 9 \n",
      "En küçük değer : 2 \n"
     ]
    }
   ],
   "source": [
    "\n",
    "min = list1[0]\n",
    "max= list1[0]\n",
    " \n",
    "for i in range(1,5):\n",
    "    if min > list1[i]:\n",
    "        min = list1[i]\n",
    "    if max < list1[i]:\n",
    "        max = list1[i]\n",
    "        \n",
    "print(\"En büyük değer : {0} \".format(max))\n",
    "print(\"En küçük değer : {0} \".format(min))"
   ]
  },
  {
   "cell_type": "code",
   "execution_count": 36,
   "id": "fa283d28",
   "metadata": {},
   "outputs": [
    {
     "data": {
      "text/plain": [
       "False"
      ]
     },
     "execution_count": 36,
     "metadata": {},
     "output_type": "execute_result"
    }
   ],
   "source": [
    "1 == False\n",
    "1 == True \n",
    "1== False"
   ]
  },
  {
   "cell_type": "code",
   "execution_count": 37,
   "id": "063e42ba",
   "metadata": {},
   "outputs": [
    {
     "name": "stdout",
     "output_type": "stream",
     "text": [
      "number1 number2 den küçüktür\n"
     ]
    }
   ],
   "source": [
    "\n",
    "number1=10\n",
    "number2=55\n",
    "\n",
    "if (number1 < number2):\n",
    "    \n",
    "    print(\"number1 number2 den küçüktür\")\n",
    "    \n",
    "elif (number1 == number2):\n",
    "    print(\"number1 number2 ye eşittir\")\n",
    "    \n",
    "else :\n",
    "    \n",
    "    print(\"number1 number2 den büyüktür\")"
   ]
  },
  {
   "cell_type": "code",
   "execution_count": 38,
   "id": "4cc457f7",
   "metadata": {},
   "outputs": [
    {
     "name": "stdout",
     "output_type": "stream",
     "text": [
      "7\n",
      "6\n",
      "5\n",
      "4\n",
      "3\n",
      "2\n"
     ]
    }
   ],
   "source": [
    "i=7\n",
    "while (i>1):\n",
    "    \n",
    "    print(i)\n",
    "    \n",
    "    i = i-1\n",
    "  "
   ]
  },
  {
   "cell_type": "code",
   "execution_count": 40,
   "id": "43301729",
   "metadata": {},
   "outputs": [
    {
     "data": {
      "text/plain": [
       "50.24"
      ]
     },
     "execution_count": 40,
     "metadata": {},
     "output_type": "execute_result"
    }
   ],
   "source": [
    "\n",
    "def cemberalan(r,pi=3.14):    \n",
    " \n",
    "    output = pi*r*r\n",
    "    \n",
    "    return output\n",
    "\n",
    "alan(4) "
   ]
  },
  {
   "cell_type": "code",
   "execution_count": 41,
   "id": "74240501",
   "metadata": {},
   "outputs": [
    {
     "data": {
      "text/plain": [
       "7.0"
      ]
     },
     "execution_count": 41,
     "metadata": {},
     "output_type": "execute_result"
    }
   ],
   "source": [
    "\n",
    "def dikdortgen_alani(a,b):\n",
    "    \n",
    "    output= a*b/2\n",
    "    \n",
    "    return output\n",
    "\n",
    "sonuc = dikdortgen_alani(7,2)\n",
    "sonuc"
   ]
  },
  {
   "cell_type": "code",
   "execution_count": 42,
   "id": "24bdd00f",
   "metadata": {},
   "outputs": [
    {
     "name": "stdout",
     "output_type": "stream",
     "text": [
      "6.0\n"
     ]
    }
   ],
   "source": [
    "output2 = lambda x,y: x*y/2 \n",
    "\n",
    "print(output2(4,3)) "
   ]
  },
  {
   "cell_type": "code",
   "execution_count": 44,
   "id": "ebb0c5eb",
   "metadata": {},
   "outputs": [
    {
     "data": {
      "text/plain": [
       "24"
      ]
     },
     "execution_count": 44,
     "metadata": {},
     "output_type": "execute_result"
    }
   ],
   "source": [
    "\n",
    "yas = {\"ayse\":21, \"zeynep\":24, \"talha\":26}\n",
    "\n",
    "type(yas) \n",
    "\n",
    "yas[\"zeynep\"] "
   ]
  },
  {
   "cell_type": "code",
   "execution_count": 47,
   "id": "3d306b76",
   "metadata": {},
   "outputs": [
    {
     "data": {
      "text/plain": [
       "21"
      ]
     },
     "execution_count": 47,
     "metadata": {},
     "output_type": "execute_result"
    }
   ],
   "source": [
    "type(yas[\"ayse\"]) \n",
    "yas.keys() \n",
    "yas.values()\n",
    "\n",
    "def function():\n",
    "    \n",
    "    dictionary = {\"ayse\":21, \"zeynep\":24, \"talha\":26}\n",
    "    \n",
    "    return dictionary\n",
    "\n",
    "dic = function()\n",
    "\n",
    "dic[\"ayse\"] "
   ]
  },
  {
   "cell_type": "code",
   "execution_count": 48,
   "id": "64b64082",
   "metadata": {},
   "outputs": [
    {
     "data": {
      "text/plain": [
       "50"
      ]
     },
     "execution_count": 48,
     "metadata": {},
     "output_type": "execute_result"
    }
   ],
   "source": [
    "\n",
    "def yastoplam():\n",
    "\n",
    "    return yas[\"talha\"]+yas[\"zeynep\"]\n",
    "\n",
    "yastoplam()"
   ]
  },
  {
   "cell_type": "code",
   "execution_count": 49,
   "id": "857229f0",
   "metadata": {},
   "outputs": [
    {
     "name": "stdout",
     "output_type": "stream",
     "text": [
      "hayır\n"
     ]
    }
   ],
   "source": [
    "\n",
    "keys = yas.keys() \n",
    "\n",
    "if \"muhammet\" in keys: \n",
    "    \n",
    "    print(\"evet\")\n",
    "\n",
    "else:\n",
    "    print(\"hayır\")"
   ]
  },
  {
   "cell_type": "code",
   "execution_count": null,
   "id": "89491f0d",
   "metadata": {},
   "outputs": [],
   "source": []
  }
 ],
 "metadata": {
  "kernelspec": {
   "display_name": "Python 3 (ipykernel)",
   "language": "python",
   "name": "python3"
  },
  "language_info": {
   "codemirror_mode": {
    "name": "ipython",
    "version": 3
   },
   "file_extension": ".py",
   "mimetype": "text/x-python",
   "name": "python",
   "nbconvert_exporter": "python",
   "pygments_lexer": "ipython3",
   "version": "3.11.5"
  }
 },
 "nbformat": 4,
 "nbformat_minor": 5
}
